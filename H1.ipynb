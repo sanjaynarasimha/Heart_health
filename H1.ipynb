{
 "cells": [
  {
   "cell_type": "code",
   "execution_count": 3,
   "metadata": {
    "colab": {
     "base_uri": "https://localhost:8080/"
    },
    "id": "K6V23Q11r-GO",
    "outputId": "2d21c47f-07e5-4c54-c488-22b3f8bec50d"
   },
   "outputs": [
    {
     "name": "stdout",
     "output_type": "stream",
     "text": [
      "Logistic Regression CV Accuracy: 81.81%\n",
      "Final Logistic Regression Accuracy: 86.89%\n",
      "              precision    recall  f1-score   support\n",
      "\n",
      "           0       0.86      0.86      0.86        29\n",
      "           1       0.88      0.88      0.88        32\n",
      "\n",
      "    accuracy                           0.87        61\n",
      "   macro avg       0.87      0.87      0.87        61\n",
      "weighted avg       0.87      0.87      0.87        61\n",
      "\n"
     ]
    },
    {
     "data": {
      "text/plain": [
       "['final-model.pkl']"
      ]
     },
     "execution_count": 3,
     "metadata": {},
     "output_type": "execute_result"
    }
   ],
   "source": [
    "import pandas as pd\n",
    "from sklearn.linear_model import LogisticRegression\n",
    "from sklearn.model_selection import train_test_split, cross_val_score\n",
    "from sklearn.metrics import accuracy_score, classification_report\n",
    "import joblib\n",
    "\n",
    "# Load the dataset\n",
    "data = pd.read_csv(r'C:\\Users\\sanja\\OneDrive\\Desktop\\Heart_project\\Heart_project\\heart.csv')  # Update the path to your dataset\n",
    "\n",
    "# Select important features\n",
    "important_features = ['cp', 'ca', 'thalach', 'oldpeak', 'age', 'thal', 'trestbps', 'chol', 'exang', 'slope']\n",
    "X_important = data[important_features]\n",
    "y = data['target']\n",
    "\n",
    "# Split the data\n",
    "X_train, X_test, y_train, y_test = train_test_split(X_important, y, test_size=0.2, random_state=42)\n",
    "\n",
    "# Train the Logistic Regression model\n",
    "logreg = LogisticRegression(max_iter=1000)\n",
    "logreg.fit(X_train, y_train)\n",
    "\n",
    "# Cross-Validation\n",
    "logreg_cv_scores = cross_val_score(logreg, X_important, y, cv=5)\n",
    "print(f'Logistic Regression CV Accuracy: {logreg_cv_scores.mean() * 100:.2f}%')\n",
    "\n",
    "# Final model evaluation\n",
    "final_predictions = logreg.predict(X_test)\n",
    "final_accuracy = accuracy_score(y_test, final_predictions)\n",
    "print(f'Final Logistic Regression Accuracy: {final_accuracy * 100:.2f}%')\n",
    "print(classification_report(y_test, final_predictions))\n",
    "\n",
    "# Save the model\n",
    "joblib.dump(logreg, 'final-model.pkl')\n"
   ]
  },
  {
   "cell_type": "code",
   "execution_count": 4,
   "metadata": {},
   "outputs": [
    {
     "name": "stdout",
     "output_type": "stream",
     "text": [
      "Sample Prediction: [0]\n"
     ]
    }
   ],
   "source": [
    "# Load the saved model\n",
    "loaded_model = joblib.load('final-model.pkl')\n",
    "\n",
    "# Test the loaded model\n",
    "sample_prediction = loaded_model.predict(X_test[:1])\n",
    "print(f'Sample Prediction: {sample_prediction}')\n"
   ]
  },
  {
   "cell_type": "code",
   "execution_count": null,
   "metadata": {},
   "outputs": [],
   "source": []
  }
 ],
 "metadata": {
  "colab": {
   "provenance": []
  },
  "kernelspec": {
   "display_name": "Python 3 (ipykernel)",
   "language": "python",
   "name": "python3"
  },
  "language_info": {
   "codemirror_mode": {
    "name": "ipython",
    "version": 3
   },
   "file_extension": ".py",
   "mimetype": "text/x-python",
   "name": "python",
   "nbconvert_exporter": "python",
   "pygments_lexer": "ipython3",
   "version": "3.12.0"
  }
 },
 "nbformat": 4,
 "nbformat_minor": 4
}
